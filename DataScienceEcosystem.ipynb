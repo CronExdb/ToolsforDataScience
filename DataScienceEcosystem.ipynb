{
 "cells": [
  {
   "cell_type": "markdown",
   "id": "cf9763a8-163a-4674-bcfc-66d4b6842519",
   "metadata": {
    "tags": []
   },
   "source": [
    "# Data Science Tools and Ecosystem\n"
   ]
  },
  {
   "cell_type": "markdown",
   "id": "3e217ec5-c8c5-4d6c-bc61-3606bb86cce0",
   "metadata": {},
   "source": [
    "## Introduction\n",
    "\n",
    "In this notebook, Data Science Tools and Ecosystem are summarized.\n"
   ]
  },
  {
   "cell_type": "markdown",
   "id": "b65d33a2-3aea-4cf6-8bbd-8cbbdb6c61c9",
   "metadata": {},
   "source": [
    "Some of the commonly used languages for data science are:\n",
    "1. Python\n",
    "2. R\n",
    "3. Julia"
   ]
  },
  {
   "cell_type": "markdown",
   "id": "107196a8-a7a1-4da0-8ffe-a1daf87a887f",
   "metadata": {},
   "source": [
    "Some of the commonly used libraries used by Data Scientists include:\n",
    "\n",
    "1. NumPy\n",
    "2. Pandas\n",
    "3. Matplotlib\n",
    "4. Scikit-learn\n",
    "5. TensorFlow"
   ]
  },
  {
   "cell_type": "markdown",
   "id": "9c4ffbde-70ac-440b-a362-8ffd8524d640",
   "metadata": {},
   "source": [
    "| Data Science Tools |\n",
    "| :----------------- |\n",
    "| Jupyter Notebooks  |\n",
    "| RStudio            |\n",
    "| VSCode             | \n"
   ]
  },
  {
   "cell_type": "markdown",
   "id": "efc81329-8f5d-4e1a-8f64-665429db2bcf",
   "metadata": {},
   "source": [
    "### Examples of Evaluating Arithmetic Expressions in Python\n",
    "\n",
    "Below are a few examples of evaluating arithmetic expressions in Python\n"
   ]
  },
  {
   "cell_type": "code",
   "execution_count": 6,
   "id": "7579afe4-b052-47ba-a025-ba2756df52f1",
   "metadata": {},
   "outputs": [
    {
     "data": {
      "text/plain": [
       "17"
      ]
     },
     "execution_count": 6,
     "metadata": {},
     "output_type": "execute_result"
    }
   ],
   "source": [
    "# This is a simple arithmetic expression to multiply then add integers\n",
    "(3*4) + 5\n"
   ]
  },
  {
   "cell_type": "code",
   "execution_count": 8,
   "id": "9c1a5c3f-5f2c-439c-81c3-c2530eefe756",
   "metadata": {},
   "outputs": [
    {
     "data": {
      "text/plain": [
       "3.3333333333333335"
      ]
     },
     "execution_count": 8,
     "metadata": {},
     "output_type": "execute_result"
    }
   ],
   "source": [
    "# This will convert 200 minutes to hours by dividing by 60\n",
    "200 / 60\n",
    "\n"
   ]
  },
  {
   "cell_type": "markdown",
   "id": "b5419e26-b894-47d7-aed6-4dc78b395572",
   "metadata": {},
   "source": [
    "**Objectives:**\n",
    "\n",
    "- List popular languages for Data Science\n",
    "- Introduce common development environments for Data Science\n",
    "- Explain the concept of an Ecosystem in Data Science\n",
    "- Highlight open source tools used in Data Science\n"
   ]
  },
  {
   "cell_type": "markdown",
   "id": "567c3f4f-4243-498a-ab79-2474ebf3c266",
   "metadata": {},
   "source": [
    "## Author\n",
    "Igors Mucenieks\n"
   ]
  },
  {
   "cell_type": "code",
   "execution_count": null,
   "id": "5e5e4be6-357d-453e-a018-a9fb1599ccd7",
   "metadata": {},
   "outputs": [],
   "source": []
  }
 ],
 "metadata": {
  "kernelspec": {
   "display_name": "Python 3 (ipykernel)",
   "language": "python",
   "name": "python3"
  },
  "language_info": {
   "codemirror_mode": {
    "name": "ipython",
    "version": 3
   },
   "file_extension": ".py",
   "mimetype": "text/x-python",
   "name": "python",
   "nbconvert_exporter": "python",
   "pygments_lexer": "ipython3",
   "version": "3.11.0"
  }
 },
 "nbformat": 4,
 "nbformat_minor": 5
}
